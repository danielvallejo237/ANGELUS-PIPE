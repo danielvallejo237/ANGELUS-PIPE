{
 "cells": [
  {
   "cell_type": "markdown",
   "id": "714b26d2-e392-4e01-8897-b5be111561bc",
   "metadata": {},
   "source": [
    "# Detección de nombre y numero de expediente\n",
    "\n",
    "## Detección de nombres, Angelus CNB"
   ]
  },
  {
   "cell_type": "code",
   "execution_count": 1,
   "id": "2606c933-dc78-4f30-96a3-0942ef99637d",
   "metadata": {},
   "outputs": [
    {
     "name": "stdout",
     "output_type": "stream",
     "text": [
      "Fusing layers... \n"
     ]
    }
   ],
   "source": [
    "import query\n",
    "import cv2"
   ]
  },
  {
   "cell_type": "code",
   "execution_count": 2,
   "id": "aae6a881-23a9-487f-8aae-948b2ae3f80e",
   "metadata": {},
   "outputs": [
    {
     "data": {
      "text/plain": [
       "'{\"fuente\": \"SEMEFO-DF-Hojas_amarillas_1979-04_abril_pg-534.jpg\", \"nombre\": [\"GILBERIO RUIZ MARQUEZ\", \"GILBERIO RUIZ MARQUEZ\", \"GILBERIO RUIZ MARQUEZ\", \"GILBERIO RUIZ MARQUEZ\"]}'"
      ]
     },
     "execution_count": 2,
     "metadata": {},
     "output_type": "execute_result"
    }
   ],
   "source": [
    "query.GetName(source='SEMEFO-DF-Hojas_amarillas_1979-04_abril_pg-534.jpg',padd=(2,2,2,2))"
   ]
  },
  {
   "cell_type": "code",
   "execution_count": 3,
   "id": "07b89d45-4562-42ef-add4-3d516dc42c2f",
   "metadata": {},
   "outputs": [
    {
     "data": {
      "text/plain": [
       "'{\"fuente\": \"SEMEFO-DF-Hojas_amarillas_1980-11_noviembre_pg-168.jpg\", \"nombre\": [\"\", \"DELE INA ROMANO\", \"\", \"\"]}'"
      ]
     },
     "execution_count": 3,
     "metadata": {},
     "output_type": "execute_result"
    }
   ],
   "source": [
    "query.GetName(source='SEMEFO-DF-Hojas_amarillas_1980-11_noviembre_pg-168.jpg',padd=(2,2,2,2))"
   ]
  },
  {
   "cell_type": "code",
   "execution_count": 4,
   "id": "39ccca97-15dd-49e2-b1c5-17386ffeb087",
   "metadata": {},
   "outputs": [
    {
     "data": {
      "text/plain": [
       "'{\"fuente\": \"SEMEFO-DF-Hojas_amarillas_1979-04_abril_pg-465.jpg\", \"nombre\": [\"JOSE VILLA ORTEGA\", \"JOSE VILLA ORTEGA\", \"JOSE VILLA ORTEGA\", \"JOSE VILLA ORTEGA\"]}'"
      ]
     },
     "execution_count": 4,
     "metadata": {},
     "output_type": "execute_result"
    }
   ],
   "source": [
    "query.GetName(source='SEMEFO-DF-Hojas_amarillas_1979-04_abril_pg-465.jpg',padd=(2,2,2,2))"
   ]
  },
  {
   "cell_type": "code",
   "execution_count": 5,
   "id": "a76b3133-8d39-411b-be09-b5251b3c70ce",
   "metadata": {},
   "outputs": [
    {
     "data": {
      "text/plain": [
       "'{\"fuente\": \"SEMEFO-DF-Hojas_amarillas_1978-05_mayo_pg-006.jpg\", \"nombre\": [\"CACAO EDMUNDO HUGO HERNANDEZ SANCHEZ\", \"CC EDMUN_DO HUGO HERNANDEZ SANCHEZ\", \"JOMBRE\", \"OCIO SEEE TECATE\"]}'"
      ]
     },
     "execution_count": 5,
     "metadata": {},
     "output_type": "execute_result"
    }
   ],
   "source": [
    "query.GetName(source='SEMEFO-DF-Hojas_amarillas_1978-05_mayo_pg-006.jpg',padd=(2,2,2,2))"
   ]
  },
  {
   "cell_type": "code",
   "execution_count": 6,
   "id": "14f70eae-1a33-4692-a2f5-6bc72214f0ac",
   "metadata": {},
   "outputs": [
    {
     "data": {
      "text/plain": [
       "'{\"fuente\": \"SEMEFO-DF-Hojas_amarillas_1979-12_diciembre-A_pg-076.jpg\", \"nombre\": [\"JOSE CERON ISLAS\", \"MN JOSE GERON TSRAS\", \"JOSE CERON ISLAS\", \"JOSE CERON ISLAS\"]}'"
      ]
     },
     "execution_count": 6,
     "metadata": {},
     "output_type": "execute_result"
    }
   ],
   "source": [
    "query.GetName(source='SEMEFO-DF-Hojas_amarillas_1979-12_diciembre-A_pg-076.jpg',padd=(2,2,2,2))"
   ]
  }
 ],
 "metadata": {
  "kernelspec": {
   "display_name": "Python 3",
   "language": "python",
   "name": "python3"
  },
  "language_info": {
   "codemirror_mode": {
    "name": "ipython",
    "version": 3
   },
   "file_extension": ".py",
   "mimetype": "text/x-python",
   "name": "python",
   "nbconvert_exporter": "python",
   "pygments_lexer": "ipython3",
   "version": "3.8.8"
  }
 },
 "nbformat": 4,
 "nbformat_minor": 5
}
